{
 "cells": [
  {
   "cell_type": "markdown",
   "metadata": {},
   "source": [
    "$\\newcommand{\\xv}{\\mathbf{x}}\n",
    "\\newcommand{\\Xv}{\\mathbf{X}}\n",
    "\\newcommand{\\yv}{\\mathbf{y}}\n",
    "\\newcommand{\\zv}{\\mathbf{z}}\n",
    "\\newcommand{\\av}{\\mathbf{a}}\n",
    "\\newcommand{\\Wv}{\\mathbf{W}}\n",
    "\\newcommand{\\wv}{\\mathbf{w}}\n",
    "\\newcommand{\\tv}{\\mathbf{t}}\n",
    "\\newcommand{\\Tv}{\\mathbf{T}}\n",
    "\\newcommand{\\muv}{\\boldsymbol{\\mu}}\n",
    "\\newcommand{\\sigmav}{\\boldsymbol{\\sigma}}\n",
    "\\newcommand{\\phiv}{\\boldsymbol{\\phi}}\n",
    "\\newcommand{\\Phiv}{\\boldsymbol{\\Phi}}\n",
    "\\newcommand{\\Sigmav}{\\boldsymbol{\\Sigma}}\n",
    "\\newcommand{\\Lambdav}{\\boldsymbol{\\Lambda}}\n",
    "\\newcommand{\\half}{\\frac{1}{2}}\n",
    "\\newcommand{\\argmax}[1]{\\underset{#1}{\\operatorname{argmax}}}\n",
    "\\newcommand{\\argmin}[1]{\\underset{#1}{\\operatorname{argmin}}}$"
   ]
  },
  {
   "cell_type": "markdown",
   "metadata": {},
   "source": [
    "# Project Proposal for CS445"
   ]
  },
  {
   "cell_type": "markdown",
   "metadata": {},
   "source": [
    "*Ben Gillett, Max Rosoff, Kacey Schulz*"
   ]
  },
  {
   "cell_type": "markdown",
   "metadata": {},
   "source": [
    "## Introduction"
   ]
  },
  {
   "cell_type": "markdown",
   "metadata": {},
   "source": [
    "Our Project Will:\n",
    "\n",
    "Download code from the net that implements an algorithm that was not covered in any of our assignments and apply it to data of interest.  Analyze the results, in terms of training and testing accuracy, data samples for which the neural network output is incorrect, and displays of activities and/or weights in hidden units to help understand how the neural network is making its decisions.\n",
    "\n",
    "Our network of interest is a GAN. We have found code for an interesting implemenation of a GAN [here](https://github.com/junyanz/iGAN). We intend to recreate the proposed network using TensorFlow or PyTorch and apply the network to a similar set of data. We want to hook up the network to a simple web-application so it is easy to view and interact with the network."
   ]
  },
  {
   "cell_type": "markdown",
   "metadata": {},
   "source": [
    "## Methods"
   ]
  },
  {
   "cell_type": "markdown",
   "metadata": {},
   "source": [
    "We wish to do the proposed project because we feel as though we have not completed any real intensive programming assignments this semester and want to be able to showcase our knowledge through a project. In addition, we find the concept of GAN's interesting and do not have any idea how they work. We like learning about cool things, so this seems like a good place to start.\n",
    "\n",
    "We will not define new algorithms persay, but we would like to recreate the implementation using TensorFlow or PyTorch.\n",
    "\n",
    "In our group, we will each work on researching the backend behind the network. We all have web-development experience, so creating a web-application will be trivial. We will likely assign two people to work on TensorFlow implementation, while the other will work on creating the triggers and user interface to be used client side. However, everyone will need a deep understanding of the model and how it operates most effectively to design the project to the best of their ability."
   ]
  },
  {
   "cell_type": "markdown",
   "metadata": {},
   "source": [
    "## Possible Results\n",
    "\n",
    "We believe that we can recreate the network, and we believe that we can create a Web GUI that is easy and informative to use. We believe that with the help of both the GitHub repository that is linked, and tutorials online, we can create a truly pretty sweet project."
   ]
  },
  {
   "cell_type": "markdown",
   "metadata": {},
   "source": [
    "## Timeline\n",
    "\n",
    "### Friday, April 17th (Sprint 1)\n",
    "\n",
    "Ben: Look into more TensorFlow tutorials, determine algorithm complexity\n",
    "Max: Create GitHub repository, populate repository with basics of web-gui and python server\n",
    "Kacey: Look into more TensorFlow tutorials, port code we already have from class over to python server\n",
    "\n",
    "### Friday, April 24th (Sprint 2)\n",
    "\n",
    "Everyone: Create basic model for GAN, test with validation and test sets\n",
    "\n",
    "### Friday, May 1st (Sprint 3)\n",
    "\n",
    "Everyone: Create advanced model for GAN, test with validation and test sets, confirm accuracy with existing implementation.\n",
    "\n",
    "### Friday, May 8th (Sprint 4)\n",
    "\n",
    "Everyone: Work on hooking up model to web-gui, create interactive demo"
   ]
  },
  {
   "cell_type": "markdown",
   "metadata": {},
   "source": [
    "## Check-in"
   ]
  },
  {
   "cell_type": "markdown",
   "metadata": {},
   "source": [
    "Do not include this section in your notebook.\n",
    "\n",
    "Your proposal should not be more than two printed pages, but you will submit your notebook in Canvas and not submit a printed version.\n",
    "\n",
    "Name your notebook ```Lastname-proposal.ipynb```.  So, for me it would be ```Anderson-Proposal.ipynb```.  Submit the file using the ```Project Proposal``` link on [Canvas](https://colostate.instructure.com/courses/95323).\n",
    "\n",
    "Grading will be based on \n",
    "\n",
    "  * clarity of describing your motivation and methods,\n",
    "  * division of work among team members, if applicable.\n",
    "  \n",
    "The instructor may ask you to expand your project and resubmit your proposal."
   ]
  }
 ],
 "metadata": {
  "kernelspec": {
   "display_name": "Python 3",
   "language": "python",
   "name": "python3"
  },
  "language_info": {
   "codemirror_mode": {
    "name": "ipython",
    "version": 3
   },
   "file_extension": ".py",
   "mimetype": "text/x-python",
   "name": "python",
   "nbconvert_exporter": "python",
   "pygments_lexer": "ipython3",
   "version": "3.6.9"
  },
  "pycharm": {
   "stem_cell": {
    "cell_type": "raw",
    "metadata": {
     "collapsed": false
    },
    "source": []
   }
  },
  "toc": {
   "base_numbering": 1,
   "nav_menu": {},
   "number_sections": true,
   "sideBar": true,
   "skip_h1_title": false,
   "title_cell": "Table of Contents",
   "title_sidebar": "Contents",
   "toc_cell": false,
   "toc_position": {},
   "toc_section_display": true,
   "toc_window_display": false
  }
 },
 "nbformat": 4,
 "nbformat_minor": 1
}
