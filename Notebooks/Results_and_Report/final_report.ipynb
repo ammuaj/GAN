Components of the final report (2,500-4,000 words including references)
1. Title of your project (You may revise your proposed title.)
This should be concise and self-descriptive.
2. Problem formulation (You may revise your proposed problem formulation.)
The proposal should clearly identify the problem. It should include at least one or two carefully crafted paragraph that states and highlights the problem. The problem formulation should be able to answer following questions:
•	What is the problem you are solving?
•	What is the goal of this project?
•	Why is your project important?
•	Why is it interesting as a Big Data problem and who would use it if it were solved?
3. Your methodology to solve the problem (You may revise your proposed stragegy.) 
Describe your proposed approach to solve the problem. The description of the strategy should include, 
•	The algorithms/techniques/models you plan to use in this project.
•	The framework you plan to use in this project.
•	Your system and services (Explain your software here (e.g. dataflow, workflow, system architecture, etc.)
4. Your dataset (You may revise your proposed dataset.)
The proposal should include a dataset to use for your project. Please include the link to the dataset and description.
5. Discussion and analysis
- What did you find from the results of your analysis?
- Evaluation of your approach (Accuracy, latency, etc.)
- Did you find any challenges during your project? Please explain those here.
6. Project contributions
Please specify contributions of each team member here.
7. Bibliography
Included a bibliography.  All references must be cited in the report.

